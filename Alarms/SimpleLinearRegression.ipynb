{
 "cells": [
  {
   "cell_type": "code",
   "execution_count": null,
   "id": "19638c1b-fdfb-4ed7-974d-a9457bf6fbf5",
   "metadata": {},
   "outputs": [],
   "source": [
    "import numpy as np\n",
    "import pandas as pd\n",
    "from numpy import random"
   ]
  },
  {
   "cell_type": "code",
   "execution_count": null,
   "id": "e97e5732-6cab-4255-8496-3b16d5540813",
   "metadata": {},
   "outputs": [],
   "source": [
    "import numpy as np\n",
    "import pandas as pd\n",
    "from numpy import random\n",
    "\n",
    "import numpy as np\n",
    "import matplotlib.pyplot as plt\n",
    "from sklearn.linear_model import LinearRegression\n",
    "\n",
    "df=pd.read_csv(\"sample_data.csv\")\n",
    "df\n",
    "\n",
    "x=np.array(df[\"YearsExperience\"])\n",
    "y=np.array(df[\"Salary\"])\n",
    "\n",
    "x,y\n",
    "\n",
    "X=np.array([1,2,3])\n",
    "Y=np.array([4,5,6])\n",
    "print(np.dot(X,Y))\n",
    "\n",
    "x_max=x.max()\n",
    "x_min=x.min()\n",
    "x_mean=x.mean()\n",
    "x_std_dev=np.sqrt((np.sum((x-x_mean)*(x-x_mean)))/len(x))\n",
    "\n",
    "for i in range(len(x)):\n",
    "    x[i]=(x[i]-x_mean)/x_std_dev\n",
    "\n",
    "y_max=y.max()\n",
    "y_min=y.min()\n",
    "y_mean=y.mean()\n",
    "y_std_dev=np.sqrt((np.sum((y-y_mean)*(y-y_mean)))/len(y))\n",
    "\n",
    "for i in range(len(y)):\n",
    "    y[i]=(y[i]-y_mean)/y_std_dev\n",
    "\n",
    "lr=0.01\n",
    "epochs=100\n",
    "w=b=0\n",
    "for i in range(epochs):\n",
    "    w_slope= -2*np.dot((y-w*x-b),x)\n",
    "   \n",
    "    b_slope=-2*np.sum((y-w*x-b))\n",
    "    \n",
    "    w=w-lr*w_slope\n",
    "    b=b-lr*b_slope\n",
    "    \n",
    "x_plot=np.arange(-2,2,0.1)\n",
    "y_plot=w*x_plot+b\n",
    "plt.scatter(x,y)\n",
    "plt.plot(x_plot,y_plot)\n",
    "plt.show()\n"
   ]
  },
  {
   "cell_type": "code",
   "execution_count": 2,
   "id": "6785bb51-40ce-479d-b902-db9c474ec526",
   "metadata": {},
   "outputs": [],
   "source": [
    "import numpy as np\n",
    "import matplotlib.pyplot as plt\n",
    "from sklearn.linear_model import LinearRegression\n"
   ]
  },
  {
   "cell_type": "code",
   "execution_count": 12,
   "id": "020104a7-a2cb-48d0-87d2-13bfd608da61",
   "metadata": {},
   "outputs": [],
   "source": [
    "df=pd.read_csv(\"sample_data.csv\")"
   ]
  },
  {
   "cell_type": "code",
   "execution_count": 14,
   "id": "bf66ff2f-c109-4ace-a00c-0eb126ef8829",
   "metadata": {},
   "outputs": [],
   "source": [
    "x=np.array(df[\"YearsExperience\"])\n",
    "y=np.array(df[\"Salary\"])"
   ]
  },
  {
   "cell_type": "code",
   "execution_count": 30,
   "id": "8f93479d-b5c7-466e-ba47-91f20c5f24a9",
   "metadata": {},
   "outputs": [
    {
     "data": {
      "text/plain": [
       "(array([1, 2, 3, 4]), array([1, 2, 3, 4]))"
      ]
     },
     "execution_count": 30,
     "metadata": {},
     "output_type": "execute_result"
    }
   ],
   "source": [
    "x,y"
   ]
  },
  {
   "cell_type": "code",
   "execution_count": 16,
   "id": "89fb6027-a3c1-40ab-ad88-0b2d493e50a4",
   "metadata": {},
   "outputs": [
    {
     "name": "stdout",
     "output_type": "stream",
     "text": [
      "32\n"
     ]
    }
   ],
   "source": [
    "X=np.array([1,2,3])\n",
    "Y=np.array([4,5,6])\n",
    "print(np.dot(X,Y))"
   ]
  },
  {
   "cell_type": "code",
   "execution_count": 17,
   "id": "b9cbd78e-88b0-4c87-9191-ffabd327d2ac",
   "metadata": {},
   "outputs": [],
   "source": [
    "x_max=x.max()\n",
    "x_min=x.min()\n",
    "x_mean=x.mean()\n",
    "x_std_dev=np.sqrt((np.sum((x-x_mean)*(x-x_mean)))/len(x))\n",
    "\n",
    "for i in range(len(x)):\n",
    "    x[i]=(x[i]-x_mean)/x_std_dev"
   ]
  },
  {
   "cell_type": "code",
   "execution_count": 18,
   "id": "d7cb122e-b30c-4793-8a10-5e60cb8c571a",
   "metadata": {},
   "outputs": [],
   "source": [
    "y_max=y.max()\n",
    "y_min=y.min()\n",
    "y_mean=y.mean()\n",
    "y_std_dev=np.sqrt((np.sum((y-y_mean)*(y-y_mean)))/len(y))\n",
    "\n",
    "for i in range(len(y)):\n",
    "    y[i]=(y[i]-y_mean)/y_std_dev"
   ]
  },
  {
   "cell_type": "code",
   "execution_count": 19,
   "id": "437a4f08-d606-446a-8687-82e06a1c0a5a",
   "metadata": {},
   "outputs": [
    {
     "data": {
      "text/plain": [
       "(array([-1.51005294, -1.43837321, -1.36669348, -1.18749416, -1.11581443,\n",
       "        -0.86493538, -0.82909552, -0.75741579, -0.75741579, -0.57821647,\n",
       "        -0.50653674, -0.47069688, -0.47069688, -0.43485702, -0.29149756,\n",
       "        -0.1481381 , -0.07645838, -0.00477865,  0.21026054,  0.2461004 ,\n",
       "         0.53281931,  0.6403389 ,  0.92705781,  1.03457741,  1.21377673,\n",
       "         1.32129632,  1.50049564,  1.5363355 ,  1.78721455,  1.85889428]),\n",
       " array([-1.36011263, -1.10552744, -1.419919  , -1.20495739, -1.33978143,\n",
       "        -0.71830716, -0.58815781, -0.79981746, -0.42881019, -0.69801306,\n",
       "        -0.47433279, -0.74976858, -0.70662043, -0.70201994, -0.55250402,\n",
       "        -0.29921736, -0.37004264,  0.26285865,  0.19885989,  0.66547573,\n",
       "         0.58377993,  0.82623317,  0.93861127,  1.40274136,  1.24020308,\n",
       "         1.09740238,  1.51986835,  1.3590738 ,  1.72102849,  1.70177321]))"
      ]
     },
     "execution_count": 19,
     "metadata": {},
     "output_type": "execute_result"
    }
   ],
   "source": [
    "x,y"
   ]
  },
  {
   "cell_type": "code",
   "execution_count": 21,
   "id": "793a9a05-f827-4f15-a0ad-59676c70ea1c",
   "metadata": {},
   "outputs": [],
   "source": [
    "lr=0.01\n",
    "epochs=100\n",
    "w=b=0\n",
    "for i in range(epochs):\n",
    "    w_slope= -2*np.dot((y-w*x-b),x)\n",
    "   \n",
    "    b_slope=-2*np.sum((y-w*x-b))\n",
    "    \n",
    "    w=w-lr*w_slope\n",
    "    b=b-lr*b_slope\n",
    "    \n",
    "    "
   ]
  },
  {
   "cell_type": "markdown",
   "id": "c6df04a4-dc38-451e-91ab-23cf8c3bbda2",
   "metadata": {},
   "source": [
    "x_plot=np.arange(-2,2,0.1)\n",
    "y_plot=w*x_plot+b\n",
    "plt.scatter(x,y)\n",
    "plt.plot(x_plot,y_plot)\n",
    "plt.show()\n"
   ]
  }
 ],
 "metadata": {
  "kernelspec": {
   "display_name": "Python 3 (ipykernel)",
   "language": "python",
   "name": "python3"
  },
  "language_info": {
   "codemirror_mode": {
    "name": "ipython",
    "version": 3
   },
   "file_extension": ".py",
   "mimetype": "text/x-python",
   "name": "python",
   "nbconvert_exporter": "python",
   "pygments_lexer": "ipython3",
   "version": "3.11.7"
  }
 },
 "nbformat": 4,
 "nbformat_minor": 5
}
