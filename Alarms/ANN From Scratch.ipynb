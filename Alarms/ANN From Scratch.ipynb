{
 "cells": [
  {
   "cell_type": "markdown",
   "id": "6b966bbb-fdd8-448f-bbb2-15118589d7f8",
   "metadata": {},
   "source": [
    "# ANN Implementation From Scratch"
   ]
  },
  {
   "cell_type": "code",
   "execution_count": 56,
   "id": "ece4b8a3-6102-4e95-82d0-aa8d829b124c",
   "metadata": {},
   "outputs": [],
   "source": [
    "import pandas as pd\n",
    "import numpy as np\n",
    "import matplotlib.pyplot as plt"
   ]
  },
  {
   "cell_type": "code",
   "execution_count": 2,
   "id": "1bd2f085-2ff9-4340-98f9-862cf4b9ee69",
   "metadata": {},
   "outputs": [],
   "source": [
    "df=pd.DataFrame([[8,8,4],[7,9,5],[6,10,6],[5,12,7],[8,6,7],[1,2,3]],columns=['cgpa','profile_score','lpa'])"
   ]
  },
  {
   "cell_type": "code",
   "execution_count": 3,
   "id": "55c6c622-34ec-4e0c-be21-975a7c94afa4",
   "metadata": {},
   "outputs": [
    {
     "data": {
      "text/html": [
       "<div>\n",
       "<style scoped>\n",
       "    .dataframe tbody tr th:only-of-type {\n",
       "        vertical-align: middle;\n",
       "    }\n",
       "\n",
       "    .dataframe tbody tr th {\n",
       "        vertical-align: top;\n",
       "    }\n",
       "\n",
       "    .dataframe thead th {\n",
       "        text-align: right;\n",
       "    }\n",
       "</style>\n",
       "<table border=\"1\" class=\"dataframe\">\n",
       "  <thead>\n",
       "    <tr style=\"text-align: right;\">\n",
       "      <th></th>\n",
       "      <th>cgpa</th>\n",
       "      <th>profile_score</th>\n",
       "      <th>lpa</th>\n",
       "    </tr>\n",
       "  </thead>\n",
       "  <tbody>\n",
       "    <tr>\n",
       "      <th>0</th>\n",
       "      <td>8</td>\n",
       "      <td>8</td>\n",
       "      <td>4</td>\n",
       "    </tr>\n",
       "    <tr>\n",
       "      <th>1</th>\n",
       "      <td>7</td>\n",
       "      <td>9</td>\n",
       "      <td>5</td>\n",
       "    </tr>\n",
       "    <tr>\n",
       "      <th>2</th>\n",
       "      <td>6</td>\n",
       "      <td>10</td>\n",
       "      <td>6</td>\n",
       "    </tr>\n",
       "    <tr>\n",
       "      <th>3</th>\n",
       "      <td>5</td>\n",
       "      <td>12</td>\n",
       "      <td>7</td>\n",
       "    </tr>\n",
       "    <tr>\n",
       "      <th>4</th>\n",
       "      <td>8</td>\n",
       "      <td>6</td>\n",
       "      <td>7</td>\n",
       "    </tr>\n",
       "    <tr>\n",
       "      <th>5</th>\n",
       "      <td>1</td>\n",
       "      <td>2</td>\n",
       "      <td>3</td>\n",
       "    </tr>\n",
       "  </tbody>\n",
       "</table>\n",
       "</div>"
      ],
      "text/plain": [
       "   cgpa  profile_score  lpa\n",
       "0     8              8    4\n",
       "1     7              9    5\n",
       "2     6             10    6\n",
       "3     5             12    7\n",
       "4     8              6    7\n",
       "5     1              2    3"
      ]
     },
     "execution_count": 3,
     "metadata": {},
     "output_type": "execute_result"
    }
   ],
   "source": [
    "df"
   ]
  },
  {
   "cell_type": "code",
   "execution_count": 4,
   "id": "f3e6debc-c971-45ad-a784-6f5e83a3cffd",
   "metadata": {},
   "outputs": [],
   "source": [
    "def initialize_parameter(layer_dims):\n",
    "    np.random.seed(3)\n",
    "    parameters={}\n",
    "    L=len(layer_dims)\n",
    "\n",
    "    for l in range(1,L):\n",
    "        parameters['W'+str(l)]=np.ones((layer_dims[l-1],layer_dims[l]))*0.1\n",
    "        parameters['b'+str(l)]=np.zeros((layer_dims[l],1))\n",
    "    return parameters"
   ]
  },
  {
   "cell_type": "code",
   "execution_count": 5,
   "id": "16eaa872-48ba-4aef-b937-9d143d93e931",
   "metadata": {},
   "outputs": [
    {
     "data": {
      "text/plain": [
       "{'W1': array([[0.1, 0.1],\n",
       "        [0.1, 0.1]]),\n",
       " 'b1': array([[0.],\n",
       "        [0.]]),\n",
       " 'W2': array([[0.1],\n",
       "        [0.1]]),\n",
       " 'b2': array([[0.]])}"
      ]
     },
     "execution_count": 5,
     "metadata": {},
     "output_type": "execute_result"
    }
   ],
   "source": [
    "initialize_parameter([2,2,1])"
   ]
  },
  {
   "cell_type": "code",
   "execution_count": 6,
   "id": "4780d922-5821-4b10-bcf5-dba96b09caf1",
   "metadata": {},
   "outputs": [],
   "source": [
    "def linear_forward(A_prev,W,b):\n",
    "    Z=np.dot(W.T,A_prev)+b\n",
    "\n",
    "    return Z\n",
    "    "
   ]
  },
  {
   "cell_type": "code",
   "execution_count": 7,
   "id": "231e2cec-8693-4c6a-bef8-42d94bfb8211",
   "metadata": {},
   "outputs": [],
   "source": [
    "# Forward Propagation\n",
    "def L_layer_forward(X,parameters):\n",
    "    A=X\n",
    "    L=len(parameters)//2\n",
    "\n",
    "    for l in range(1,L+1):\n",
    "        A_prev=A\n",
    "        W1=parameters['W'+str(l)]\n",
    "        b1=parameters['b'+str(l)]\n",
    "\n",
    "        # print(\"A\"+str(l-1)+\": \",A_prev)\n",
    "        # print(\"W\"+str(l)+\": \",W1)\n",
    "        # print(\"b\"+str(l)+\": \",b1)\n",
    "        # print(\"--\"*20)\n",
    "\n",
    "        A=linear_forward(A_prev,W1,b1)\n",
    "        # print(\"A\"+str(l)+\": \",A)\n",
    "        # print(\"--\"*20)\n",
    "    return A,A_prev"
   ]
  },
  {
   "cell_type": "code",
   "execution_count": 8,
   "id": "89551532-be71-448b-aaff-a2dd774e3011",
   "metadata": {},
   "outputs": [],
   "source": [
    "X=df[['cgpa','profile_score']].values[0].reshape(2,1)\n",
    "y=df[['lpa']].values[0][0]"
   ]
  },
  {
   "cell_type": "code",
   "execution_count": 9,
   "id": "afb2663e-d205-4b3f-8428-1c5284ba19a1",
   "metadata": {},
   "outputs": [
    {
     "data": {
      "text/plain": [
       "array([[8],\n",
       "       [8]], dtype=int64)"
      ]
     },
     "execution_count": 9,
     "metadata": {},
     "output_type": "execute_result"
    }
   ],
   "source": [
    "X"
   ]
  },
  {
   "cell_type": "code",
   "execution_count": 10,
   "id": "b21c810e-f282-490e-9d88-9480750478d6",
   "metadata": {},
   "outputs": [
    {
     "data": {
      "text/plain": [
       "4"
      ]
     },
     "execution_count": 10,
     "metadata": {},
     "output_type": "execute_result"
    }
   ],
   "source": [
    "y"
   ]
  },
  {
   "cell_type": "code",
   "execution_count": 11,
   "id": "cd753df7-9201-43dc-b523-289b7be3bd1a",
   "metadata": {},
   "outputs": [
    {
     "data": {
      "text/plain": [
       "{'W1': array([[0.1, 0.1],\n",
       "        [0.1, 0.1]]),\n",
       " 'b1': array([[0.],\n",
       "        [0.]]),\n",
       " 'W2': array([[0.1],\n",
       "        [0.1]]),\n",
       " 'b2': array([[0.]])}"
      ]
     },
     "execution_count": 11,
     "metadata": {},
     "output_type": "execute_result"
    }
   ],
   "source": [
    "parameters=initialize_parameter([2,2,1])\n",
    "parameters"
   ]
  },
  {
   "cell_type": "code",
   "execution_count": 12,
   "id": "a9fa1e1e-7e9a-4571-af59-a7c4a720de5c",
   "metadata": {},
   "outputs": [],
   "source": [
    "y_hat,A1=L_layer_forward(X,parameters)"
   ]
  },
  {
   "cell_type": "code",
   "execution_count": 13,
   "id": "52357ef9-8f4b-42cd-9fe4-aaa50220b223",
   "metadata": {},
   "outputs": [],
   "source": [
    "y_hat=y_hat[0][0]"
   ]
  },
  {
   "cell_type": "code",
   "execution_count": 14,
   "id": "257ee5e7-1ed3-48e2-85d9-6e24cd11e568",
   "metadata": {},
   "outputs": [
    {
     "data": {
      "text/plain": [
       "array([[1.6],\n",
       "       [1.6]])"
      ]
     },
     "execution_count": 14,
     "metadata": {},
     "output_type": "execute_result"
    }
   ],
   "source": [
    "A1"
   ]
  },
  {
   "cell_type": "code",
   "execution_count": 15,
   "id": "bc2f42fb-be6b-4833-b3df-6849076044cc",
   "metadata": {},
   "outputs": [],
   "source": [
    "def update_parameters(parameters,y,y_hat,A1,X):\n",
    "    parameters['W2'][0][0]=parameters['W2'][0][0]+(0.001*2*(y-y_hat)*A1[0][0])\n",
    "    parameters['W2'][1][0]=parameters['W2'][1][0]+(0.001*2*(y-y_hat)*A1[1][0])\n",
    "    parameters['b2'][0][0]=parameters['b2'][0][0]+(0.001*2*(y-y_hat))\n",
    "\n",
    "    parameters['W1'][0][0]=parameters['W1'][0][0]+(0.001*2*(y-y_hat)*parameters['W2'][0][0]*X[0][0])\n",
    "    parameters['W1'][0][1]=parameters['W1'][0][1]+(0.001*2*(y-y_hat)*parameters['W2'][0][0]*X[1][0])\n",
    "    parameters['b1'][0][0]=parameters['b1'][0][0]+(0.001*2*(y-y_hat)*parameters['W2'][0][0])\n",
    "\n",
    "    parameters['W1'][1][0]=parameters['W1'][1][0]+(0.001*2*(y-y_hat)*parameters['W2'][1][0]*X[0][0])\n",
    "    parameters['W1'][1][1]=parameters['W1'][1][1]+(0.001*2*(y-y_hat)*parameters['W2'][1][0]*X[1][0])\n",
    "    parameters['b1'][1][0]=parameters['b1'][1][0]+(0.001*2*(y-y_hat)*parameters['W2'][1][0])\n",
    "\n",
    "    \n"
   ]
  },
  {
   "cell_type": "code",
   "execution_count": 16,
   "id": "b01644b8-2e1b-4595-8495-7ffbbc65b18d",
   "metadata": {},
   "outputs": [],
   "source": [
    "update_parameters(parameters,y,y_hat,A1,X)"
   ]
  },
  {
   "cell_type": "code",
   "execution_count": 17,
   "id": "74282632-7e51-405d-832d-4cf9a4ddf432",
   "metadata": {},
   "outputs": [
    {
     "data": {
      "text/plain": [
       "{'W1': array([[0.10658137, 0.10658137],\n",
       "        [0.10658137, 0.10658137]]),\n",
       " 'b1': array([[0.00082267],\n",
       "        [0.00082267]]),\n",
       " 'W2': array([[0.111776],\n",
       "        [0.111776]]),\n",
       " 'b2': array([[0.00736]])}"
      ]
     },
     "execution_count": 17,
     "metadata": {},
     "output_type": "execute_result"
    }
   ],
   "source": [
    "parameters"
   ]
  },
  {
   "cell_type": "code",
   "execution_count": 18,
   "id": "30e30d49-e7f7-4ea7-81e6-8f5d02ca86df",
   "metadata": {},
   "outputs": [],
   "source": [
    "# Student 2\n",
    "X=df[['cgpa','profile_score']].values[1].reshape(2,1)\n",
    "y=df[['lpa']].values[1][0]\n",
    "\n",
    "\n",
    "y_hat,A1=L_layer_forward(X,parameters)"
   ]
  },
  {
   "cell_type": "code",
   "execution_count": 19,
   "id": "d01ce3ae-e3b7-4be9-9912-461051da8d6c",
   "metadata": {},
   "outputs": [],
   "source": [
    "y_hat=y_hat[0][0]"
   ]
  },
  {
   "cell_type": "code",
   "execution_count": 20,
   "id": "0ec7caed-8511-49bb-9368-59bbac61753e",
   "metadata": {},
   "outputs": [],
   "source": [
    "update_parameters(parameters,y,y_hat,A1,X)"
   ]
  },
  {
   "cell_type": "code",
   "execution_count": 21,
   "id": "b16f8653-fa8b-407b-83b0-5c57b385aa38",
   "metadata": {},
   "outputs": [
    {
     "data": {
      "text/plain": [
       "{'W1': array([[0.11481311, 0.11716504],\n",
       "        [0.11481311, 0.11716504]]),\n",
       " 'b1': array([[0.00199863],\n",
       "        [0.00199863]]),\n",
       " 'W2': array([[0.12751067],\n",
       "        [0.12751067]]),\n",
       " 'b2': array([[0.01658246]])}"
      ]
     },
     "execution_count": 21,
     "metadata": {},
     "output_type": "execute_result"
    }
   ],
   "source": [
    "parameters"
   ]
  },
  {
   "cell_type": "code",
   "execution_count": 22,
   "id": "d6986e98-645c-4205-9063-c6d4d4c124d6",
   "metadata": {},
   "outputs": [],
   "source": [
    "# Student 2\n",
    "X=df[['cgpa','profile_score']].values[2].reshape(2,1)\n",
    "y=df[['lpa']].values[2][0]\n",
    "\n",
    "\n",
    "y_hat,A1=L_layer_forward(X,parameters)"
   ]
  },
  {
   "cell_type": "code",
   "execution_count": 23,
   "id": "5581e706-b3e6-4ef4-bce3-343d08972de4",
   "metadata": {},
   "outputs": [],
   "source": [
    "update_parameters(parameters,y,y_hat[0][0],A1,X)"
   ]
  },
  {
   "cell_type": "code",
   "execution_count": 24,
   "id": "59d22520-bb78-4d6e-b252-3ec4d43f964b",
   "metadata": {},
   "outputs": [
    {
     "data": {
      "text/plain": [
       "{'W1': array([[0.12458335, 0.13344878],\n",
       "        [0.12461077, 0.13349447]]),\n",
       " 'b1': array([[0.00362701],\n",
       "        [0.00363158]]),\n",
       " 'W2': array([[0.1477752 ],\n",
       "        [0.14818986]]),\n",
       " 'b2': array([[0.02760173]])}"
      ]
     },
     "execution_count": 24,
     "metadata": {},
     "output_type": "execute_result"
    }
   ],
   "source": [
    "parameters"
   ]
  },
  {
   "cell_type": "code",
   "execution_count": 25,
   "id": "b3752f8d-4ab0-4598-ab1e-ebcf87cded61",
   "metadata": {},
   "outputs": [
    {
     "name": "stdout",
     "output_type": "stream",
     "text": [
      "Epoch - 1 , Loss -  25.243531869807857\n",
      "Epoch - 2 , Loss -  15.945717719294024\n",
      "Epoch - 3 , Loss -  5.596503326258876\n",
      "Epoch - 4 , Loss -  2.0795860053932387\n",
      "Epoch - 5 , Loss -  2.0711438024015276\n",
      "Epoch - 6 , Loss -  2.218113061622907\n",
      "Epoch - 7 , Loss -  2.2589935329497592\n",
      "Epoch - 8 , Loss -  2.2665641085595274\n",
      "Epoch - 9 , Loss -  2.2663991941639026\n",
      "Epoch - 10 , Loss -  2.2645611863885673\n",
      "Epoch - 11 , Loss -  2.2623890772363855\n",
      "Epoch - 12 , Loss -  2.260173957198614\n",
      "Epoch - 13 , Loss -  2.257978676119523\n",
      "Epoch - 14 , Loss -  2.2558165926580815\n",
      "Epoch - 15 , Loss -  2.2536903532910952\n",
      "Epoch - 16 , Loss -  2.2516002914932063\n",
      "Epoch - 17 , Loss -  2.2495462451384673\n",
      "Epoch - 18 , Loss -  2.247527949342432\n",
      "Epoch - 19 , Loss -  2.2455451212428525\n",
      "Epoch - 20 , Loss -  2.243597478225794\n",
      "Epoch - 21 , Loss -  2.2416847417892356\n",
      "Epoch - 22 , Loss -  2.2398066383119315\n",
      "Epoch - 23 , Loss -  2.2379628991573877\n",
      "Epoch - 24 , Loss -  2.236153260636272\n",
      "Epoch - 25 , Loss -  2.234377463939781\n",
      "Epoch - 26 , Loss -  2.232635255068106\n",
      "Epoch - 27 , Loss -  2.2309263847591256\n",
      "Epoch - 28 , Loss -  2.229250608418442\n",
      "Epoch - 29 , Loss -  2.22760768605089\n",
      "Epoch - 30 , Loss -  2.225997382193608\n",
      "Epoch - 31 , Loss -  2.224419465850571\n",
      "Epoch - 32 , Loss -  2.222873710428647\n",
      "Epoch - 33 , Loss -  2.221359893675037\n",
      "Epoch - 34 , Loss -  2.2198777976161694\n",
      "Epoch - 35 , Loss -  2.218427208497942\n",
      "Epoch - 36 , Loss -  2.2170079167273378\n",
      "Epoch - 37 , Loss -  2.2156197168153287\n",
      "Epoch - 38 , Loss -  2.2142624073211175\n",
      "Epoch - 39 , Loss -  2.2129357907976064\n",
      "Epoch - 40 , Loss -  2.211639673738134\n"
     ]
    }
   ],
   "source": [
    "# Back Propagation\n",
    "\n",
    "parameters=initialize_parameter([2,2,1])\n",
    "epochs=40\n",
    "\n",
    "for i in range(epochs):\n",
    "    Loss=[]\n",
    "\n",
    "    for j in range(df.shape[0]):\n",
    "        X=df[['cgpa','profile_score']].values[j].reshape(2,1)\n",
    "        y=df[['lpa']].values[j][0]\n",
    "\n",
    "        y_hat,A1=L_layer_forward(X,parameters)\n",
    "        y_hat=y_hat[0][0]\n",
    "\n",
    "        update_parameters(parameters,y,y_hat,A1,X)\n",
    "        Loss.append((y-y_hat)**2)\n",
    "    print('Epoch - '+str(i+1)+' , Loss - ',np.array(Loss).mean())\n",
    "    "
   ]
  },
  {
   "cell_type": "markdown",
   "id": "f11c0eef-7e4c-4f1a-a638-96d85571a6cf",
   "metadata": {},
   "source": [
    "# ========================================="
   ]
  },
  {
   "cell_type": "markdown",
   "id": "1c9181dc-b882-48c5-b43a-448b2bb027e9",
   "metadata": {},
   "source": [
    "# Logistic Regression -- Classification Problem"
   ]
  },
  {
   "cell_type": "code",
   "execution_count": 36,
   "id": "2180ed49-23b1-452a-ac71-b269b484f63b",
   "metadata": {},
   "outputs": [],
   "source": [
    "df2=pd.DataFrame([[8,8,1],[7,9,1],[6,10,0],[5,5,0]],columns=['cgpa','profile_score','placed'])"
   ]
  },
  {
   "cell_type": "code",
   "execution_count": 37,
   "id": "1c6fb521-8402-4742-a43c-ff450d21b957",
   "metadata": {},
   "outputs": [
    {
     "data": {
      "text/html": [
       "<div>\n",
       "<style scoped>\n",
       "    .dataframe tbody tr th:only-of-type {\n",
       "        vertical-align: middle;\n",
       "    }\n",
       "\n",
       "    .dataframe tbody tr th {\n",
       "        vertical-align: top;\n",
       "    }\n",
       "\n",
       "    .dataframe thead th {\n",
       "        text-align: right;\n",
       "    }\n",
       "</style>\n",
       "<table border=\"1\" class=\"dataframe\">\n",
       "  <thead>\n",
       "    <tr style=\"text-align: right;\">\n",
       "      <th></th>\n",
       "      <th>cgpa</th>\n",
       "      <th>profile_score</th>\n",
       "      <th>placed</th>\n",
       "    </tr>\n",
       "  </thead>\n",
       "  <tbody>\n",
       "    <tr>\n",
       "      <th>0</th>\n",
       "      <td>8</td>\n",
       "      <td>8</td>\n",
       "      <td>1</td>\n",
       "    </tr>\n",
       "    <tr>\n",
       "      <th>1</th>\n",
       "      <td>7</td>\n",
       "      <td>9</td>\n",
       "      <td>1</td>\n",
       "    </tr>\n",
       "    <tr>\n",
       "      <th>2</th>\n",
       "      <td>6</td>\n",
       "      <td>10</td>\n",
       "      <td>0</td>\n",
       "    </tr>\n",
       "    <tr>\n",
       "      <th>3</th>\n",
       "      <td>5</td>\n",
       "      <td>5</td>\n",
       "      <td>0</td>\n",
       "    </tr>\n",
       "  </tbody>\n",
       "</table>\n",
       "</div>"
      ],
      "text/plain": [
       "   cgpa  profile_score  placed\n",
       "0     8              8       1\n",
       "1     7              9       1\n",
       "2     6             10       0\n",
       "3     5              5       0"
      ]
     },
     "execution_count": 37,
     "metadata": {},
     "output_type": "execute_result"
    }
   ],
   "source": [
    "df2"
   ]
  },
  {
   "cell_type": "code",
   "execution_count": 38,
   "id": "b9740dfc-4e6a-48a8-95e0-9b2a1b5929b1",
   "metadata": {},
   "outputs": [],
   "source": [
    "# Sigmoid Function\n",
    "def sigmoid(Z):\n",
    "    A=1/(1+np.exp(-Z))\n",
    "    return A"
   ]
  },
  {
   "cell_type": "code",
   "execution_count": 39,
   "id": "3bf621e4-0217-4367-8374-1f933b6e8bea",
   "metadata": {},
   "outputs": [],
   "source": [
    "def linear_forward(A_prev,W,b):\n",
    "    Z=np.dot(W.T,A_prev)+b\n",
    "\n",
    "    return Z"
   ]
  },
  {
   "cell_type": "code",
   "execution_count": 40,
   "id": "ec67eb9d-f169-4ca6-a3e0-039e478c1888",
   "metadata": {},
   "outputs": [],
   "source": [
    "# Forward Propagation\n",
    "def L_layer_forward(X,parameters):\n",
    "    A=X\n",
    "    L=len(parameters)//2\n",
    "\n",
    "    for l in range(1,L+1):\n",
    "        A_prev=A\n",
    "        W1=parameters['W'+str(l)]\n",
    "        b1=parameters['b'+str(l)]\n",
    "\n",
    "        # print(\"A\"+str(l-1)+\": \",A_prev)\n",
    "        # print(\"W\"+str(l)+\": \",W1)\n",
    "        # print(\"b\"+str(l)+\": \",b1)\n",
    "        # print(\"--\"*20)\n",
    "\n",
    "        A=linear_forward(A_prev,W1,b1)\n",
    "        # print(\"A\"+str(l)+\": \",A)\n",
    "        # print(\"--\"*20)\n",
    "    return A,A_prev"
   ]
  },
  {
   "cell_type": "code",
   "execution_count": 41,
   "id": "0d2fa327-6fe1-44f1-a6fb-b3577b08c28e",
   "metadata": {},
   "outputs": [],
   "source": [
    "def update_parameters(parameters,y,y_hat,A1,X):\n",
    "    parameters['W2'][0][0]=parameters['W2'][0][0]+(0.001*(y-y_hat)*A1[0][0])\n",
    "    parameters['W2'][1][0]=parameters['W2'][1][0]+(0.001*(y-y_hat)*A1[1][0])\n",
    "    parameters['b2'][0][0]=parameters['b2'][0][0]+(0.001*(y-y_hat))\n",
    "\n",
    "    parameters['W1'][0][0]=parameters['W1'][0][0]+(0.001*(y-y_hat)*parameters['W2'][0][0]*A1[0][0]*(1-A1[0][0])*X[0][0])\n",
    "    parameters['W1'][0][1]=parameters['W1'][0][0]+(0.001*(y-y_hat)*parameters['W2'][0][0]*A1[0][0]*(1-A1[0][0])*X[1][0])\n",
    "    parameters['b1'][0][0]=parameters['b1'][0][0]+(0.001*(y-y_hat)*parameters['W2'][0][0]*A1[0][0]*(1-A1[0][0]))\n",
    "\n",
    "    parameters['W1'][1][0]=parameters['W1'][1][0]+(0.001*(y-y_hat)*parameters['W2'][1][0]*A1[1][0]*(1-A1[1][0])*X[0][0])\n",
    "    parameters['W1'][1][0]=parameters['W1'][1][0]+(0.001*(y-y_hat)*parameters['W2'][1][0]*A1[1][0]*(1-A1[1][0])*X[1][0])\n",
    "    parameters['b1'][1][0]=parameters['b1'][1][0]+(0.001*(y-y_hat)*parameters['W2'][1][0]*A1[1][0]*(1-A1[1][0]))\n"
   ]
  },
  {
   "cell_type": "code",
   "execution_count": 47,
   "id": "64a326bd-4adb-4efb-b93f-f60febbcc974",
   "metadata": {},
   "outputs": [
    {
     "name": "stdout",
     "output_type": "stream",
     "text": [
      "Epoch - 1 , Loss -  0.7228789419972508\n",
      "Epoch - 2 , Loss -  0.7201478901209498\n",
      "Epoch - 3 , Loss -  0.7175671024663169\n",
      "Epoch - 4 , Loss -  0.7151244058420978\n",
      "Epoch - 5 , Loss -  0.7128088132184108\n",
      "Epoch - 6 , Loss -  0.7106103896527892\n",
      "Epoch - 7 , Loss -  0.7085201355400076\n",
      "Epoch - 8 , Loss -  0.7065298847308966\n",
      "Epoch - 9 , Loss -  0.704632215383789\n",
      "Epoch - 10 , Loss -  0.7028203717535897\n",
      "Epoch - 11 , Loss -  0.7010881954048664\n",
      "Epoch - 12 , Loss -  0.6994300645682615\n",
      "Epoch - 13 , Loss -  0.697840840553071\n",
      "Epoch - 14 , Loss -  0.6963158202902433\n",
      "Epoch - 15 , Loss -  0.6948506942151407\n",
      "Epoch - 16 , Loss -  0.6934415088128588\n",
      "Epoch - 17 , Loss -  0.6920846332444669\n",
      "Epoch - 18 , Loss -  0.6907767295533004\n",
      "Epoch - 19 , Loss -  0.6895147260188976\n",
      "Epoch - 20 , Loss -  0.6882957932843499\n",
      "Epoch - 21 , Loss -  0.6871173229324332\n",
      "Epoch - 22 , Loss -  0.685976908228264\n",
      "Epoch - 23 , Loss -  0.6848723267825292\n",
      "Epoch - 24 , Loss -  0.6838015249205224\n",
      "Epoch - 25 , Loss -  0.6827626035690594\n",
      "Epoch - 26 , Loss -  0.6817538054965054\n",
      "Epoch - 27 , Loss -  0.6807735037611765\n",
      "Epoch - 28 , Loss -  0.6798201912407327\n",
      "Epoch - 29 , Loss -  0.6788924711302574\n",
      "Epoch - 30 , Loss -  0.6779890483098278\n",
      "Epoch - 31 , Loss -  0.6771087214938268\n",
      "Epoch - 32 , Loss -  0.6762503760842349\n",
      "Epoch - 33 , Loss -  0.6754129776588873\n",
      "Epoch - 34 , Loss -  0.6745955660333552\n",
      "Epoch - 35 , Loss -  0.6737972498418467\n",
      "Epoch - 36 , Loss -  0.6730172015884545\n",
      "Epoch - 37 , Loss -  0.6722546531253095\n",
      "Epoch - 38 , Loss -  0.671508891518818\n",
      "Epoch - 39 , Loss -  0.6707792552692489\n",
      "Epoch - 40 , Loss -  0.6700651308525589\n",
      "Epoch - 41 , Loss -  0.6693659495565661\n",
      "Epoch - 42 , Loss -  0.668681184586439\n",
      "Epoch - 43 , Loss -  0.6680103484170257\n",
      "Epoch - 44 , Loss -  0.6673529903718188\n",
      "Epoch - 45 , Loss -  0.6667086944103993\n",
      "Epoch - 46 , Loss -  0.6660770771080156\n",
      "Epoch - 47 , Loss -  0.6654577858126093\n",
      "Epoch - 48 , Loss -  0.6648504969660658\n",
      "Epoch - 49 , Loss -  0.6642549145778073\n",
      "Epoch - 50 , Loss -  0.6636707688400434\n"
     ]
    }
   ],
   "source": [
    "# Back Propagation\n",
    "\n",
    "parameters=initialize_parameter([2,2,1])\n",
    "epochs=50\n",
    "\n",
    "for i in range(epochs):\n",
    "    Loss=[]\n",
    "\n",
    "    for j in range(df2.shape[0]):\n",
    "        X=df2[['cgpa','profile_score']].values[j].reshape(2,1)\n",
    "        y=df2[['placed']].values[j][0]\n",
    "\n",
    "        y_hat,A1=L_layer_forward(X,parameters)\n",
    "        y_hat=y_hat[0][0]\n",
    "\n",
    "        update_parameters(parameters,y,y_hat,A1,X)\n",
    "        Loss.append(-y*np.log(y_hat)-(1-y)*np.log(1-y_hat))\n",
    "    print('Epoch - '+str(i+1)+' , Loss - ',np.array(Loss).mean())\n",
    "    "
   ]
  },
  {
   "cell_type": "code",
   "execution_count": 52,
   "id": "6151ceca-c0f5-498c-93cd-3c68405edde2",
   "metadata": {},
   "outputs": [],
   "source": [
    "df2_placed=df2[df2[\"placed\"]==1]"
   ]
  },
  {
   "cell_type": "code",
   "execution_count": 53,
   "id": "b23fb571-c659-4c94-95b2-5aa31c4d7c8e",
   "metadata": {},
   "outputs": [
    {
     "data": {
      "text/html": [
       "<div>\n",
       "<style scoped>\n",
       "    .dataframe tbody tr th:only-of-type {\n",
       "        vertical-align: middle;\n",
       "    }\n",
       "\n",
       "    .dataframe tbody tr th {\n",
       "        vertical-align: top;\n",
       "    }\n",
       "\n",
       "    .dataframe thead th {\n",
       "        text-align: right;\n",
       "    }\n",
       "</style>\n",
       "<table border=\"1\" class=\"dataframe\">\n",
       "  <thead>\n",
       "    <tr style=\"text-align: right;\">\n",
       "      <th></th>\n",
       "      <th>cgpa</th>\n",
       "      <th>profile_score</th>\n",
       "      <th>placed</th>\n",
       "    </tr>\n",
       "  </thead>\n",
       "  <tbody>\n",
       "    <tr>\n",
       "      <th>0</th>\n",
       "      <td>8</td>\n",
       "      <td>8</td>\n",
       "      <td>1</td>\n",
       "    </tr>\n",
       "    <tr>\n",
       "      <th>1</th>\n",
       "      <td>7</td>\n",
       "      <td>9</td>\n",
       "      <td>1</td>\n",
       "    </tr>\n",
       "  </tbody>\n",
       "</table>\n",
       "</div>"
      ],
      "text/plain": [
       "   cgpa  profile_score  placed\n",
       "0     8              8       1\n",
       "1     7              9       1"
      ]
     },
     "execution_count": 53,
     "metadata": {},
     "output_type": "execute_result"
    }
   ],
   "source": [
    "df2_placed"
   ]
  },
  {
   "cell_type": "code",
   "execution_count": 54,
   "id": "994fd918-9202-44ab-8bcf-e9c425880b45",
   "metadata": {},
   "outputs": [],
   "source": [
    "df2_not_placed=df2[df2[\"placed\"]==0]"
   ]
  },
  {
   "cell_type": "code",
   "execution_count": 58,
   "id": "962cbac8-aae7-4e0b-ba1a-b5e2d08c4773",
   "metadata": {},
   "outputs": [
    {
     "data": {
      "image/png": "[encoded data removed]",
      "text/plain": [
       "<Figure size 640x480 with 1 Axes>"
      ]
     },
     "metadata": {},
     "output_type": "display_data"
    }
   ],
   "source": [
    "fig=plt.figure()\n",
    "ax=plt.axes(projection='3d')\n",
    "ax.scatter3D(df2_placed[\"cgpa\"],df2_placed[\"profile_score\"],df2_placed[\"placed\"],marker='o',color='green')\n",
    "ax.scatter3D(df2_not_placed[\"cgpa\"],df2_not_placed[\"profile_score\"],df2_not_placed[\"placed\"],marker='+',color='red')\n",
    "plt.show()"
   ]
  },
  {
   "cell_type": "code",
   "execution_count": null,
   "id": "062849f8-964c-4fb2-b740-1daf85ce2847",
   "metadata": {},
   "outputs": [],
   "source": []
  }
 ],
 "metadata": {
  "kernelspec": {
   "display_name": "Python 3 (ipykernel)",
   "language": "python",
   "name": "python3"
  },
  "language_info": {
   "codemirror_mode": {
    "name": "ipython",
    "version": 3
   },
   "file_extension": ".py",
   "mimetype": "text/x-python",
   "name": "python",
   "nbconvert_exporter": "python",
   "pygments_lexer": "ipython3",
   "version": "3.11.7"
  }
 },
 "nbformat": 4,
 "nbformat_minor": 5
}
